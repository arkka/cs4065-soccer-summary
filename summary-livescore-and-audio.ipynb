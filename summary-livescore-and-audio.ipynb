{
 "cells": [
  {
   "cell_type": "code",
   "execution_count": 1,
   "metadata": {
    "collapsed": false
   },
   "outputs": [
    {
     "name": "stdout",
     "output_type": "stream",
     "text": [
      "0.2.2.11\n"
     ]
    }
   ],
   "source": [
    "import numpy as np\n",
    "import moviepy as mpy\n",
    "\n",
    "from moviepy.editor import *\n",
    "\n",
    "print mpy.__version__"
   ]
  },
  {
   "cell_type": "markdown",
   "metadata": {},
   "source": [
    "## Video Retrieval\n",
    "\n",
    "This final assignment is about soccer match summarization.\n",
    "This notebook shows video summarization based on peak volume of commentator voice combined with livescore data."
   ]
  },
  {
   "cell_type": "code",
   "execution_count": 2,
   "metadata": {
    "collapsed": false
   },
   "outputs": [],
   "source": [
    "# clipfull = VideoFileClip(\"soccer.mp4\")\n",
    "clipfull = VideoFileClip(\"soccer2cut.mp4\")\n",
    "offset = 0 #the real kick off / start of the match\n",
    "livescore_offset = -60 + offset; # livescore use ceiling for the event's timestamp\n",
    "\n",
    "include_goals = True;\n",
    "include_fouls = True;\n",
    "include_others = True; # shoot on goal, build-up play, etc\n",
    "\n",
    "# Get subclip for second half\n",
    "# clipsecond = VideoFileClip(\"soccer.mp4\").subclip(\"01:17:00\")"
   ]
  },
  {
   "cell_type": "code",
   "execution_count": 3,
   "metadata": {
    "collapsed": false
   },
   "outputs": [],
   "source": [
    "# Show video and show properties upon click\n",
    "# test.preview(fps=29)\n",
    "\n",
    "# Show frame on exact second and show properties upon click\n",
    "# test.show(1, interactive = True)\n",
    "\n",
    "# Show the clip, time & memory consuming\n",
    "# Could be exceed max time duration\n",
    "# ipython_display(clipsecond)"
   ]
  },
  {
   "cell_type": "markdown",
   "metadata": {},
   "source": [
    "## Video Processing\n",
    "\n",
    "Video processing to get the audio signal"
   ]
  },
  {
   "cell_type": "code",
   "execution_count": 4,
   "metadata": {
    "collapsed": false
   },
   "outputs": [],
   "source": [
    "# Function to create sound array for i\n",
    "cut = lambda i: clipfull.audio.subclip(i,i+1).to_soundarray(fps=44100)\n",
    "\n",
    "# Function to get volume from sound array (44100 frame per second)\n",
    "# **2 to make all soundarray per second to be positive\n",
    "# mean to get average volume per second\n",
    "# np.sqrt to compensate the **2 in the beginning\n",
    "volume = lambda array: np.sqrt( ((1.0*array)**2).mean() )\n",
    "\n",
    "volumes = [volume(cut(i)) for i in range(0,int(clipfull.audio.duration))]"
   ]
  },
  {
   "cell_type": "code",
   "execution_count": 5,
   "metadata": {
    "collapsed": false
   },
   "outputs": [
    {
     "name": "stdout",
     "output_type": "stream",
     "text": [
      "[0.077250957265440345, 0.076239409956070231, 0.064494543395664725, 0.066857291407524694, 0.063551756356655983]\n",
      "[44100, 44100, 44100, 44100, 44100]\n"
     ]
    }
   ],
   "source": [
    "# Test volume function\n",
    "\n",
    "volvol = lambda array: np.sqrt(((1.0*array)**2).mean())\n",
    "vol2 = lambda array: len(array)\n",
    "\n",
    "volyu = [volvol(cut(i)) for i in range(0,5)]\n",
    "volyu2 = [vol2(cut(i)) for i in range(0,5)]\n",
    "\n",
    "print volyu\n",
    "print volyu2"
   ]
  },
  {
   "cell_type": "markdown",
   "metadata": {},
   "source": [
    "## Plot the Audio Signal"
   ]
  },
  {
   "cell_type": "code",
   "execution_count": 6,
   "metadata": {
    "collapsed": false
   },
   "outputs": [],
   "source": [
    "# Get volumes for each 10s\n",
    "# averaged_volumes = np.array([sum(volumes[i:i+10])/10\n",
    "#                              for i in range(len(volumes)-10)])\n",
    "\n",
    "vol = np.array(volumes)"
   ]
  },
  {
   "cell_type": "code",
   "execution_count": 7,
   "metadata": {
    "collapsed": false
   },
   "outputs": [],
   "source": [
    "# import matplotlib.pyplot as plt\n",
    "\n",
    "# t = [i for i in range (0,len(volumes))]\n",
    "\n",
    "# plt.plot(t,vol)\n",
    "# plt.ylabel(\"Amplitude\")\n",
    "# plt.xlabel(\"Time\")\n",
    "# plt.title(\"Audio signal for original video\")\n",
    "# plt.show()"
   ]
  },
  {
   "cell_type": "code",
   "execution_count": 8,
   "metadata": {
    "collapsed": false
   },
   "outputs": [
    {
     "name": "stdout",
     "output_type": "stream",
     "text": [
      "[ 0.07725096  0.07623941  0.06449454 ...,  0.07980834  0.06769019\n",
      "  0.07222508]\n",
      "2914\n",
      "[ 0.06749895  0.06878789  0.06784407  0.08563442  0.08600405  0.07528455\n",
      "  0.07522987  0.07150924  0.07202402  0.06684229  0.06694595  0.07625101\n",
      "  0.06803636  0.06962755  0.09273976  0.09208836  0.07648906  0.07728341\n",
      "  0.06853206  0.07788358]\n"
     ]
    }
   ],
   "source": [
    "print vol \n",
    "\n",
    "print len(vol)\n",
    "\n",
    "print vol[750:770]"
   ]
  },
  {
   "cell_type": "markdown",
   "metadata": {},
   "source": [
    "## Peak Detection"
   ]
  },
  {
   "cell_type": "code",
   "execution_count": 9,
   "metadata": {
    "collapsed": false
   },
   "outputs": [
    {
     "name": "stdout",
     "output_type": "stream",
     "text": [
      "901 peak detected\n",
      "[ 110  116  121  125  143  146  271  392  406  408  415  452  491  516  528\n",
      "  532  600  675  753  766  769  772  774 1360 1719 1926 2040 2053 2099 2102\n",
      " 2104 2114 2118 2122 2200 2221 2231 2498 2513 2518 2520 2718 2720 2881 2910]\n"
     ]
    }
   ],
   "source": [
    "# increases = np.diff(averaged_volumes)[:-1]>=0\n",
    "# decreases = np.diff(averaged_volumes)[1:]<=0\n",
    "# peaks_times = (increases * decreases).nonzero()[0]\n",
    "# peaks_vols = averaged_volumes[peaks_times]\n",
    "# peaks_times = peaks_times[peaks_vols>np.percentile(peaks_vols,90)]\n",
    "\n",
    "# Searching for peak in volume\n",
    "increases = np.diff(vol)[:-1]>=0\n",
    "decreases = np.diff(vol)[1:]<=0\n",
    "\n",
    "peaks_times = (increases * decreases).nonzero()[0]\n",
    "\n",
    "peaks_vols = vol[peaks_times]\n",
    "\n",
    "# print peaks_times\n",
    "\n",
    "peaks_timesX = peaks_times[peaks_vols>np.percentile(peaks_vols,95)]\n",
    "\n",
    "# for t in peaks_times:\n",
    "#     print 'Time: %d with Volume %0.6f' % (t, vol[t])\n",
    "    \n",
    "print '%d peak detected' % len(peaks_times)\n",
    "\n",
    "print peaks_timesX"
   ]
  },
  {
   "cell_type": "markdown",
   "metadata": {},
   "source": [
    "## Livescore Event"
   ]
  },
  {
   "cell_type": "code",
   "execution_count": 10,
   "metadata": {
    "collapsed": false
   },
   "outputs": [
    {
     "name": "stdout",
     "output_type": "stream",
     "text": [
      "0.0668170683087\n",
      "0.0618290714107\n"
     ]
    }
   ],
   "source": [
    "# Determine Volume Threshold for excitement of goals\n",
    "volGoalThres = np.percentile(peaks_vols,80)\n",
    "\n",
    "# Determine Volume Threshold for excitement of fouls\n",
    "volFoulThres = np.percentile(peaks_vols,60)\n",
    "\n",
    "print volGoalThres\n",
    "print volFoulThres\n",
    "\n",
    "# 75% = 0.0654566037419\n",
    "# 80% = 0.0668173452693\n",
    "# 85% = 0.0683748378437\n",
    "# 90% = 0.0708875224504"
   ]
  },
  {
   "cell_type": "code",
   "execution_count": 11,
   "metadata": {
    "collapsed": false
   },
   "outputs": [
    {
     "name": "stdout",
     "output_type": "stream",
     "text": [
      "Livescore: Goals times\n",
      "All of the peak of livescore: \n",
      "[ 301  303  306  310  312  314  317  321  324  326  328  334  336  341  344\n",
      "  346  348  350  352  355  780  782  784  789  792  799  802  805  807  810\n",
      "  812  816  819  823  827  830  833  836 2641 2644 2646 2648 2650 2652 2655\n",
      " 2660 2662 2665 2672 2675 2678 2683 2685 2687 2689 2691 2695 2697]\n",
      "Peak at: 341 with Volume 0.072955\n",
      "Peak at: 812 with Volume 0.070595\n",
      "Peak at: 2685 with Volume 0.074097\n",
      "[ 303  341  780  812 2660 2695]\n",
      "[[303, 341], [780, 812], [2660, 2695]]\n"
     ]
    }
   ],
   "source": [
    "# Livescore goal times\n",
    "\n",
    "print \"Livescore: Goals times\"\n",
    "goals_times = np.array([360, 840, 2700])\n",
    "goals_text = ['ARG - Angel Di Maria', 'ARG - Ever Banega', 'CHI - Jose Fuenzalida']\n",
    "\n",
    "# For all livescore goals\n",
    "goals = np.array([])\n",
    "goals_pair = []\n",
    "\n",
    "# For all livescore times (goals and fouls)\n",
    "livescore_times = np.array([])\n",
    "\n",
    "# For highest peak\n",
    "livescore_peaks = np.array([])\n",
    "\n",
    "# Duration of livescore\n",
    "timeLivescore = np.array([])\n",
    "\n",
    "for goal in goals_times:\n",
    "    start = goal + livescore_offset\n",
    "    \n",
    "    incgoal = np.diff(vol)[start:goal-1]>=0\n",
    "    decgoal = np.diff(vol)[start+1:goal]<=0\n",
    "    \n",
    "    # Determine all the peak on 1 minute window\n",
    "    times_goals = start + (incgoal * decgoal).nonzero()[0]\n",
    "    goals = np.append(goals,times_goals)\n",
    "    \n",
    "    livescore_times = np.append(livescore_times,times_goals)\n",
    "    \n",
    "    # Get the peak higher than volume threshold\n",
    "#     threshold = np.array([int(t) for t in times_goals if vol[t]>= np.percentile(vol[times_goals],75)])\n",
    "    threshold = np.array([int(t) for t in times_goals if vol[t]>= volGoalThres])\n",
    "    timeLivescore = np.append(np.array([threshold[0],threshold[-1]]),timeLivescore)\n",
    "    goals_pair.append([threshold[0],threshold[-1]])\n",
    "    \n",
    "    \n",
    "    # Search for the highest peak\n",
    "    peaks_goals = np.array([times_goals[0]])\n",
    "    for time in times_goals:\n",
    "        if vol[time] >= vol[peaks_goals[-1]]:\n",
    "            peaks_goals[-1] = time\n",
    "    livescore_peaks = np.append(livescore_peaks,peaks_goals[0])   \n",
    "\n",
    "livescore_times = np.sort(livescore_times).astype(int)\n",
    "print 'All of the peak of livescore: '\n",
    "print livescore_times\n",
    "# for t in livescore_times:\n",
    "#     print 'Time: %d with Volume %0.6f' % (t, vol[t])\n",
    "    \n",
    "livescore_peaks = np.sort(livescore_peaks).astype(int)\n",
    "for t in livescore_peaks:\n",
    "    print 'Peak at: %d with Volume %0.6f' % (t, vol[t])\n",
    "    \n",
    "# Get list all goal volume higher than threshold\n",
    "timeLivescore = np.sort(timeLivescore).astype(int)\n",
    "print timeLivescore \n",
    "\n",
    "goals = np.sort(goals).astype(int)\n",
    "\n",
    "print goals_pair"
   ]
  },
  {
   "cell_type": "code",
   "execution_count": 12,
   "metadata": {
    "collapsed": false
   },
   "outputs": [],
   "source": [
    "# Checking Subclip\n",
    "\n",
    "# test = clipfull.subclip(780,812)\n",
    "\n",
    "# ipython_display(test)"
   ]
  },
  {
   "cell_type": "code",
   "execution_count": 13,
   "metadata": {
    "collapsed": false
   },
   "outputs": [
    {
     "name": "stdout",
     "output_type": "stream",
     "text": [
      "Livescore: Fouls times\n",
      "[1140 1142 1144 1146 1150 1155 1158 1161 1164 1166 1168 1171 1174 1178 1181\n",
      " 1183 1186 1188 1191 1193 1195 1198]\n",
      "[1443 1446 1449 1452 1455 1458 1460 1465 1468 1470 1474 1476 1482 1489 1492\n",
      " 1497]\n",
      "[2400 2402 2404 2407 2411 2414 2416 2421 2424 2427 2430 2433 2437 2440 2443\n",
      " 2446 2448 2451 2457]\n",
      "All of the peak of livescore: \n",
      "[ 301  303  306  310  312  314  317  321  324  326  328  334  336  341  344\n",
      "  346  348  350  352  355  780  782  784  789  792  799  802  805  807  810\n",
      "  812  816  819  823  827  830  833  836 1140 1142 1144 1146 1150 1155 1158\n",
      " 1161 1164 1166 1168 1171 1174 1178 1181 1183 1186 1188 1191 1193 1195 1198\n",
      " 1443 1446 1449 1452 1455 1458 1460 1465 1468 1470 1474 1476 1482 1489 1492\n",
      " 1497 2400 2402 2404 2407 2411 2414 2416 2421 2424 2427 2430 2433 2437 2440\n",
      " 2443 2446 2448 2451 2457 2641 2644 2646 2648 2650 2652 2655 2660 2662 2665\n",
      " 2672 2675 2678 2683 2685 2687 2689 2691 2695 2697]\n",
      "Peak at: 341 with Volume 0.072955\n",
      "Peak at: 812 with Volume 0.070595\n",
      "Peak at: 1150 with Volume 0.065405\n",
      "Peak at: 1452 with Volume 0.072042\n",
      "Peak at: 2433 with Volume 0.065155\n",
      "Peak at: 2685 with Volume 0.074097\n",
      "[2421 2451 1452 1460 1140 1181  303  341  780  812 2660 2695]\n",
      "[[1140, 1181], [1452, 1460], [2421, 2451]]\n"
     ]
    }
   ],
   "source": [
    "# Livescore foul times\n",
    "\n",
    "print \"Livescore: Fouls times\"\n",
    "fouls_times = np.array([1200, 1500, 2460])\n",
    "\n",
    "# For all livescore fouls\n",
    "fouls = np.array([])\n",
    "fouls_pair = []\n",
    "\n",
    "for foul in fouls_times:\n",
    "    start = foul+livescore_offset\n",
    "    incfoul = np.diff(vol)[start:foul-1]>=0\n",
    "    decfoul = np.diff(vol)[start+1:foul]<=0\n",
    "    \n",
    "    # Determine the peak on 1 minute window\n",
    "    times_fouls = start + (incfoul * decfoul).nonzero()[0]\n",
    "    fouls = np.append(fouls,times_fouls)\n",
    "    livescore_times = np.append(livescore_times,times_fouls)\n",
    "\n",
    "    print times_fouls\n",
    "    # Get the peak higher than volume threshold\n",
    "#     threshold = np.array([int(t) for t in times_fouls if vol[t]>= np.percentile(vol[times_fouls],75)])\n",
    "    threshold = np.array([int(t) for t in times_fouls if vol[t]>= volFoulThres])\n",
    "    timeLivescore = np.append(np.array([threshold[0],threshold[-1]]),timeLivescore)\n",
    "    fouls_pair.append([threshold[0],threshold[-1]])\n",
    "    \n",
    "    # Search for the highest peak\n",
    "    peaks_fouls = np.array([times_fouls[0]])\n",
    "    for time in times_fouls:\n",
    "        if vol[time] >= vol[peaks_fouls[-1]]:\n",
    "            peaks_fouls[-1] = time\n",
    "    livescore_peaks = np.append(livescore_peaks,peaks_fouls[0])   \n",
    "    \n",
    "    \n",
    "\n",
    "livescore_times = np.sort(livescore_times).astype(int)\n",
    "print 'All of the peak of livescore: '\n",
    "print livescore_times\n",
    "\n",
    "livescore_peaks = np.sort(livescore_peaks).astype(int)\n",
    "for t in livescore_peaks:\n",
    "    print 'Peak at: %d with Volume %0.6f' % (t, vol[t])\n",
    "    \n",
    "# Get list all goal volume higher than threshold\n",
    "print timeLivescore \n",
    "\n",
    "fouls = np.sort(fouls).astype(int)\n",
    "\n",
    "print fouls_pair"
   ]
  },
  {
   "cell_type": "code",
   "execution_count": 14,
   "metadata": {
    "collapsed": false
   },
   "outputs": [
    {
     "name": "stdout",
     "output_type": "stream",
     "text": [
      "115\n",
      "58\n",
      "57\n"
     ]
    }
   ],
   "source": [
    "# Checking Subclip\n",
    "\n",
    "# test2 = clipfull.subclip(2421,2451)\n",
    "\n",
    "# ipython_display(test2)\n",
    "\n",
    "print livescore_times.size\n",
    "\n",
    "print goals.size\n",
    "\n",
    "print fouls.size"
   ]
  },
  {
   "cell_type": "markdown",
   "metadata": {},
   "source": [
    "## Combine Audio based with Livescore"
   ]
  },
  {
   "cell_type": "code",
   "execution_count": 15,
   "metadata": {
    "collapsed": false
   },
   "outputs": [
    {
     "name": "stdout",
     "output_type": "stream",
     "text": [
      "Filter peaks_times with Livescore - Goals\n",
      "843\n",
      "Filter peaks_times with Livescore - Fouls\n",
      "786\n",
      "[ 110  116  121  125  143  146  271  392  406  408  415  452  491  516  528\n",
      "  532  600  675  753  766  769  772  774 1360 1719 1926 2040 2053 2099 2102\n",
      " 2104 2114 2118 2122 2200 2221 2231 2498 2513 2518 2520 2718 2720 2881 2910]\n",
      "45\n",
      "[[303, 341], [780, 812], [2660, 2695], [1140, 1181], [1452, 1460], [2421, 2451]]\n",
      "6\n"
     ]
    }
   ],
   "source": [
    "# Assign filter percentile\n",
    "audioPercentile = 95\n",
    "\n",
    "# Assign Windows for subclip\n",
    "foi_windows = []\n",
    "\n",
    "# Filter peak times\n",
    "# Do not include livescore times\n",
    "\n",
    "if include_goals:\n",
    "    print \"Filter peaks_times with Livescore - Goals\"\n",
    "    peaks_times = np.array([x for x in peaks_times if x not in goals])\n",
    "#     print peaks_times\n",
    "    print len(peaks_times)\n",
    "    \n",
    "    for goal in goals_pair:\n",
    "        foi_windows.append(goal)\n",
    "    \n",
    "    \n",
    "if include_fouls:\n",
    "    print \"Filter peaks_times with Livescore - Fouls\"\n",
    "    peaks_times = np.array([x for x in peaks_times if x not in fouls])\n",
    "#     print peaks_times\n",
    "    print len(peaks_times)\n",
    "    \n",
    "    for foul in fouls_pair:\n",
    "        foi_windows.append(foul)\n",
    "    \n",
    "\n",
    "# Filter so that only x% percentile that is included\n",
    "\n",
    "volz = vol[peaks_times]\n",
    "\n",
    "peaks_times = peaks_times[volz>np.percentile(peaks_vols,audioPercentile)]\n",
    "\n",
    "print peaks_times\n",
    "print peaks_times.size\n",
    "\n",
    "print foi_windows\n",
    "print len(foi_windows)"
   ]
  },
  {
   "cell_type": "code",
   "execution_count": 16,
   "metadata": {
    "collapsed": false
   },
   "outputs": [
    {
     "name": "stdout",
     "output_type": "stream",
     "text": [
      "Grouped Frames\n",
      "[116, 146, 271, 392, 452, 516, 600, 675, 753, 1360, 1719, 1926, 2040, 2114, 2231, 2498, 2718, 2881]\n"
     ]
    }
   ],
   "source": [
    "final_times=[peaks_times[0]]\n",
    "for t in peaks_times:     \n",
    "    if (t - final_times[-1]) < 30:\n",
    "        if vol[t] > vol[final_times[-1]]:\n",
    "            final_times[-1] = t\n",
    "    else:   \n",
    "        final_times.append(t)\n",
    "\n",
    "print \"Grouped Frames\"\n",
    "print final_times\n",
    "# [2421 2451 1452 1460 1140 1181  303  341  780  812 2660 2695]"
   ]
  },
  {
   "cell_type": "markdown",
   "metadata": {},
   "source": [
    "## Create Dynamic window of FOI"
   ]
  },
  {
   "cell_type": "code",
   "execution_count": 17,
   "metadata": {
    "collapsed": true
   },
   "outputs": [],
   "source": [
    "# Static Frame-of-Interest (FOI)\n",
    "# foi_window = 15;\n",
    "# final = concatenate([clipfull.subclip(max(t-foi_window,0),min(t+foi_window, clipfull.duration)) for t in final_times])\n",
    "\n",
    "# Dynamic FOI\n",
    "foi_search_limit = 15; # times of search\n",
    "foi_search_time = 1; # seconds\n",
    "    \n",
    "def findDynamicFOI(t): \n",
    "    foi_window_start = 0;\n",
    "    foi_window_end = 0;\n",
    "    \n",
    "    for i in range(1, foi_search_limit):\n",
    "#         print t\n",
    "#         print vol[t-foi_search_time * i]\n",
    "#         print vol[t] * 0.5\n",
    "\n",
    "        if(vol[t - foi_search_time * i] >= volFoulThres):\n",
    "#         if(vol[t - foi_search_time * i] >= vol[t] * 0.6):\n",
    "            foi_window_start = foi_window_start + foi_search_time\n",
    "#             print \"start\"\n",
    "#             print foi_window_start\n",
    "            \n",
    "        if((t + foi_search_time * i <= len(vol) ) and (vol[t + foi_search_time * i] >= volFoulThres)):\n",
    "#         if((t + foi_search_time * i <= len(vol) ) and (vol[t + foi_search_time * i] >= vol[t] * 0.6)):\n",
    "            foi_window_end = foi_window_end + foi_search_time\n",
    "#             print \"end\"\n",
    "#             print foi_window_end\n",
    "    return [t-foi_window_start, t+foi_window_end]"
   ]
  },
  {
   "cell_type": "code",
   "execution_count": 18,
   "metadata": {
    "collapsed": true
   },
   "outputs": [],
   "source": [
    "# Static Frame-of-Interest (FOI)\n",
    "# foi_window = 15;\n",
    "# final = concatenate([clipfull.subclip(max(t-foi_window,0),min(t+foi_window, clipfull.duration)) for t in final_times])\n",
    "\n",
    "# Dynamic FOI\n",
    "foi_search_limit = 4; # times of search\n",
    "foi_search_time = 5; # seconds\n",
    "    \n",
    "def findDynamicFOI2(t): \n",
    "    foi_window_start = 0;\n",
    "    foi_window_end = 0;\n",
    "    \n",
    "    for i in range(1, foi_search_limit):\n",
    "#         print t\n",
    "#         print vol[t-foi_search_time * i]\n",
    "#         print vol[t] * 0.5\n",
    "        for j in range (1, foi_search_time):\n",
    "            if(vol[t - j * i] >= volFoulThres):\n",
    "#             if(vol[t - foi_search_time * i] >= vol[t] * 0.6):\n",
    "#                 foi_window_start = foi_window_start + foi_search_time\n",
    "                foi_window_start = foi_search_time * i\n",
    "#                 print \"start\"\n",
    "#                 print foi_window_start\n",
    "                continue\n",
    "            \n",
    "            if((t + j * i <= len(vol) ) and (vol[t + j * i] >= volFoulThres)):\n",
    "#             if((t + foi_search_time * i <= len(vol) ) and (vol[t + foi_search_time * i] >= vol[t] * 0.6)):\n",
    "#                 foi_window_end = foi_window_end + foi_search_time\n",
    "                foi_window_end = foi_search_time * i\n",
    "#                 print \"end\"\n",
    "#                 print foi_window_end\n",
    "                continue\n",
    "            \n",
    "    return [t-foi_window_start, t+foi_window_end]"
   ]
  },
  {
   "cell_type": "code",
   "execution_count": 19,
   "metadata": {
    "collapsed": false
   },
   "outputs": [],
   "source": [
    "# Assigning dynamic FOI window\n",
    "for t in final_times:\n",
    "    foi_windows.append(findDynamicFOI2(t))\n",
    "\n",
    "# print foi_windows"
   ]
  },
  {
   "cell_type": "code",
   "execution_count": 20,
   "metadata": {
    "collapsed": false
   },
   "outputs": [
    {
     "name": "stdout",
     "output_type": "stream",
     "text": [
      "[[101, 131], [131, 161], [256, 286], [303, 341], [377, 392], [437, 467], [501, 531], [585, 615], [660, 690], [738, 768], [780, 812], [1140, 1181], [1345, 1365], [1452, 1460], [1704, 1734], [1911, 1941], [2025, 2055], [2099, 2114], [2216, 2236], [2421, 2451], [2488, 2513], [2660, 2695], [2703, 2718], [2866, 2896]]\n"
     ]
    }
   ],
   "source": [
    "# Sort window \n",
    "foi_windows_sort=[foi_windows[0]]\n",
    "\n",
    "for fw in foi_windows:\n",
    "    if fw[0] == foi_windows_sort[-1][0]:\n",
    "        continue\n",
    "    if fw[0] > foi_windows_sort[-1][0]:\n",
    "        foi_windows_sort.append(fw)\n",
    "    else: # fw[0] < foi_windows_sort[-1][0]\n",
    "        index = [foi_windows_sort.index(i) for i in foi_windows_sort if i[0] >= fw[0]][0]\n",
    "        foi_windows_sort.insert(index,fw)\n",
    "        \n",
    "print foi_windows_sort\n",
    "\n",
    "# Merge window if necessary\n",
    "# foi_windows_grouped=[foi_windows[0]]\n",
    "\n",
    "# for fw in foi_windows:\n",
    "    \n",
    "#     if fw[0] > foi_windows_grouped[-1][1]:\n",
    "#         foi_windows_grouped.append(fw)\n",
    "#     else:\n",
    "#         foi_windows_grouped[-1][1] = fw[1]\n",
    "# print foi_windows_grouped     \n",
    "        \n",
    "#         print fw[0]\n",
    "#         print foi_windows_grouped[-1][1]\n",
    "#         print fw\n",
    "#         print \"---\"    \n",
    "\n",
    "#print foi_windows    \n",
    "# final = concatenate([clipfull.subclip(max(fw[0],0),min(fw[1], clipfull.duration)) for fw in foi_windows_grouped])\n",
    "# final.to_videofile(\"soccer-summary-livescore-and-audio.mp4\")"
   ]
  },
  {
   "cell_type": "markdown",
   "metadata": {},
   "source": [
    "## Write summary video"
   ]
  },
  {
   "cell_type": "code",
   "execution_count": 21,
   "metadata": {
    "collapsed": false
   },
   "outputs": [],
   "source": [
    "# final = concatenate([clipfull.subclip(max(fw[0],0),min(fw[1], clipfull.duration)) for fw in foi_windows_sort])\n",
    "# final.to_videofile(\"soccer-final95a.mp4\")"
   ]
  },
  {
   "cell_type": "code",
   "execution_count": 30,
   "metadata": {
    "collapsed": false
   },
   "outputs": [
    {
     "name": "stdout",
     "output_type": "stream",
     "text": [
      "C:\\Program Files\\ImageMagick-6.9.4-Q16\\convert.exe\n",
      "C:\\Users\\sukmawicaksana\\AppData\\Local\\imageio\\ffmpeg\\ffmpeg.win32.exe\n"
     ]
    }
   ],
   "source": [
    "# Change setting imagemick for Windows user\n",
    "import moviepy.config as cf\n",
    "cf.change_settings({\"IMAGEMAGICK_BINARY\": \"C:\\Program Files\\ImageMagick-6.9.4-Q16\\convert.exe\"})\n",
    "print( cf.get_setting(\"IMAGEMAGICK_BINARY\") )  # prints the current setting\n",
    "print( cf.get_setting(\"FFMPEG_BINARY\") )"
   ]
  },
  {
   "cell_type": "code",
   "execution_count": 31,
   "metadata": {
    "collapsed": false
   },
   "outputs": [
    {
     "name": "stdout",
     "output_type": "stream",
     "text": [
      "\n",
      "[MoviePy] This command returned an error !"
     ]
    },
    {
     "ename": "IOError",
     "evalue": "MoviePy Error: creation of None failed because of the following error:\n\nconvert.exe: no images defined `PNG32:c:\\users\\sukmaw~1\\appdata\\local\\temp\\tmpvaykwv.png' @ error/convert.c/ConvertImageCommand/3257.\r\n.\n\n.This error can be due to the fact that ImageMagick is not installed on your computer, or (for Windows users) that you didn't specify the path to the ImageMagick binary in file conf.py, or.that the path you specified is incorrect",
     "output_type": "error",
     "traceback": [
      "\u001b[1;31m---------------------------------------------------------------------------\u001b[0m",
      "\u001b[1;31mIOError\u001b[0m                                   Traceback (most recent call last)",
      "\u001b[1;32m<ipython-input-31-42a011d71427>\u001b[0m in \u001b[0;36m<module>\u001b[1;34m()\u001b[0m\n\u001b[0;32m      8\u001b[0m                  .set_duration(10) )\n\u001b[0;32m      9\u001b[0m         \u001b[1;32melse\u001b[0m\u001b[1;33m:\u001b[0m\u001b[1;33m\u001b[0m\u001b[0m\n\u001b[1;32m---> 10\u001b[1;33m             txt_clip = ( TextClip(\"\",fontsize=70,color='white')\n\u001b[0m\u001b[0;32m     11\u001b[0m                  \u001b[1;33m.\u001b[0m\u001b[0mset_position\u001b[0m\u001b[1;33m(\u001b[0m\u001b[1;34m'center'\u001b[0m\u001b[1;33m)\u001b[0m\u001b[1;33m\u001b[0m\u001b[0m\n\u001b[0;32m     12\u001b[0m                  .set_duration(10) )\n",
      "\u001b[1;32mc:\\users\\sukmawicaksana\\anaconda2\\envs\\cs4065\\lib\\site-packages\\moviepy-0.2.2.11-py2.7.egg\\moviepy\\video\\VideoClip.pyc\u001b[0m in \u001b[0;36m__init__\u001b[1;34m(self, txt, filename, size, color, bg_color, fontsize, font, stroke_color, stroke_width, method, kerning, align, interline, tempfilename, temptxt, transparent, remove_temp, print_cmd)\u001b[0m\n\u001b[0;32m   1143\u001b[0m                     \u001b[1;34m\"path to the ImageMagick binary in file conf.py, or.\"\u001b[0m\u001b[1;33m\u001b[0m\u001b[0m\n\u001b[0;32m   1144\u001b[0m                     \"that the path you specified is incorrect\" ))\n\u001b[1;32m-> 1145\u001b[1;33m             \u001b[1;32mraise\u001b[0m \u001b[0mIOError\u001b[0m\u001b[1;33m(\u001b[0m\u001b[0merror\u001b[0m\u001b[1;33m)\u001b[0m\u001b[1;33m\u001b[0m\u001b[0m\n\u001b[0m\u001b[0;32m   1146\u001b[0m \u001b[1;33m\u001b[0m\u001b[0m\n\u001b[0;32m   1147\u001b[0m         \u001b[0mImageClip\u001b[0m\u001b[1;33m.\u001b[0m\u001b[0m__init__\u001b[0m\u001b[1;33m(\u001b[0m\u001b[0mself\u001b[0m\u001b[1;33m,\u001b[0m \u001b[0mtempfilename\u001b[0m\u001b[1;33m,\u001b[0m \u001b[0mtransparent\u001b[0m\u001b[1;33m=\u001b[0m\u001b[0mtransparent\u001b[0m\u001b[1;33m)\u001b[0m\u001b[1;33m\u001b[0m\u001b[0m\n",
      "\u001b[1;31mIOError\u001b[0m: MoviePy Error: creation of None failed because of the following error:\n\nconvert.exe: no images defined `PNG32:c:\\users\\sukmaw~1\\appdata\\local\\temp\\tmpvaykwv.png' @ error/convert.c/ConvertImageCommand/3257.\r\n.\n\n.This error can be due to the fact that ImageMagick is not installed on your computer, or (for Windows users) that you didn't specify the path to the ImageMagick binary in file conf.py, or.that the path you specified is incorrect"
     ]
    }
   ],
   "source": [
    "final2 = concatenate([clipfull.subclip( max(fw[0],0),min(fw[1], clipfull.duration) ) for fw in foi_windows_sort])\n",
    "\n",
    "for fw in foi_windows_sort:\n",
    "    for pair in goals_pair: # [[303, 341], [780, 812], [2660, 2695]]\n",
    "        if fw == pair :\n",
    "            txt_clip = ( TextClip(goals_text[goals_pair.index(pair)],fontsize=70,color='white')\n",
    "                 .set_position('center')\n",
    "                 .set_duration(10) )\n",
    "        else:\n",
    "            txt_clip = ( TextClip(\"\",fontsize=70,color='white')\n",
    "                 .set_position('center')\n",
    "                 .set_duration(10) )\n",
    "            \n",
    "    final2 = concatenate(CompositeVideoClip([clipfull.subclip(max(fw[0],0),min(fw[1], clipfull.duration)), txt_clip]))\n",
    "    \n",
    "final2.to_videofile(\"soccer-final95text.mp4\")"
   ]
  },
  {
   "cell_type": "code",
   "execution_count": null,
   "metadata": {
    "collapsed": true
   },
   "outputs": [],
   "source": []
  }
 ],
 "metadata": {
  "kernelspec": {
   "display_name": "Python 2",
   "language": "python",
   "name": "python2"
  },
  "language_info": {
   "codemirror_mode": {
    "name": "ipython",
    "version": 2
   },
   "file_extension": ".py",
   "mimetype": "text/x-python",
   "name": "python",
   "nbconvert_exporter": "python",
   "pygments_lexer": "ipython2",
   "version": "2.7.11"
  }
 },
 "nbformat": 4,
 "nbformat_minor": 0
}
